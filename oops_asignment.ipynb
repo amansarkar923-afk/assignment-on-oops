{
  "nbformat": 4,
  "nbformat_minor": 0,
  "metadata": {
    "colab": {
      "provenance": []
    },
    "kernelspec": {
      "name": "python3",
      "display_name": "Python 3"
    },
    "language_info": {
      "name": "python"
    }
  },
  "cells": [
    {
      "cell_type": "markdown",
      "source": [
        "# **PYTHON OOPs QUESTIONS**\n",
        "\n",
        "1. What is Object-Oriented Programming (OOP)?\n",
        "\n",
        "Answer:\n",
        "Object-Oriented Programming (OOP) is a programming paradigm that models real-world entities as objects containing both data (attributes) and behaviors (methods). It helps developers build organized, reusable, and scalable code by structuring programs around these objects. Python implements OOP through four main principles: encapsulation, inheritance, abstraction, and polymorphism.\n",
        "\n",
        "\n",
        "2. What is a class in OOP?\n",
        "\n",
        "Answer:\n",
        "A class is a blueprint or template for creating objects. It defines the attributes (data) and methods (behaviors) that its instances (objects) will have. In Python, you define a class using the class keyword.\n",
        "\n",
        "\n",
        "3. What is an object in OOP?\n",
        "\n",
        "Answer:\n",
        "An object is an instance of a class. It represents a specific concrete entity with its own state (attributes), behavior (methods), and identity.\n",
        "\n",
        "\n",
        "4. What is the difference between abstraction and encapsulation?\n",
        "\n",
        "Answer:\n",
        "\n",
        "**Encapsulation** is the bundling of data (attributes) and methods (functions) that operate on that data within a class, typically restricting direct access to some attributes to maintain integrity.\n",
        "\n",
        "**Abstraction** hides the internal implementation details and exposes only the necessary, relevant functionality. It provides a simplified interface to interact with systems without needing to understand the inner workings.\n",
        "\n",
        "\n",
        "5. What are dunder methods in Python?\n",
        "\n",
        "Answer:\n",
        "“Dunder” (double underscore) methods, also known as magic methods, are special Python methods surrounded by double underscores (e.g., __init__, __str__, __repr__). They customize class behavior for operations like initialization, string conversion, arithmetic, iteration, etc.\n",
        "\n",
        "6. Explain the concept of inheritance in OOP.\n",
        "\n",
        "Answer:\n",
        "Inheritance allows a class (child/subclass) to inherit attributes and methods from another class (parent/superclass). This promotes code reuse and enables extension or customization of existing functionality. In Python, inheritance is implemented by specifying the parent class in parentheses, and you can use super() to leverage the parent’s behavior.\n",
        "\n",
        "\n",
        "7. What is polymorphism in OOP?\n",
        "\n",
        "Answer:\n",
        "**Polymorphism** is the ability of different object types to respond to the same method call in different ways. It allows one interface (method name) to work with various types—especially effective in Python given its dynamic (duck-typing) nature.\n",
        "\n",
        "\n",
        "8. How is encapsulation achieved in Python?\n",
        "\n",
        "Answer:\n",
        "In Python, encapsulation is achieved by:\n",
        "\n",
        "Using private or protected attributes—indicated with a single underscore _var (protected) or double underscores __var (name-mangled, pseudo-private).\n",
        "\n",
        "Providing getter and setter methods or using the @property decorator to control access to those attributes.\n",
        "\n",
        "\n",
        "9. What is a constructor in Python?\n",
        "\n",
        "Answer:\n",
        "The **constructor** in Python is the __init__(self, ...) method, called automatically when a new object is created. It initializes the object’s attributes.\n",
        "\n",
        "\n",
        "10. What are class and static methods in Python?\n",
        "\n",
        "Answer:\n",
        "\n",
        "**Class methods** use the @classmethod decorator and take cls (the class itself) as the first argument. They operate on the class rather than instance, useful for factory methods or class-level behavior.\n",
        "\n",
        "**Static methods** use the @staticmethod decorator, take neither self nor cls, and behave like regular functions within the class namespace. They are utility methods that logically belong to the class.\n",
        "\n",
        "\n",
        "11. What is method overloading in Python?\n",
        "\n",
        "Answer:\n",
        "Python does not support traditional method overloading like Java or C++. Defining multiple methods with the same name will overwrite the previous one. Instead, Python handles varying argument lists using default parameters or variable arguments (*args, **kwargs).\n",
        "\n",
        "\n",
        "12. What is method overriding in OOP?\n",
        "\n",
        "Answer:\n",
        "Method overriding occurs when a subclass provides its own implementation of a method that already exists in the parent class. The subclass’s version takes precedence when called on its instances. Useful for customizing or extending behavior.\n",
        "\n",
        "\n",
        "13. What is a property decorator in Python?\n",
        "\n",
        "Answer:\n",
        "The @property decorator allows a method to be accessed like an attribute, enabling controlled access or computed properties without using explicit getter methods.\n",
        "\n",
        "\n",
        "14. Why is polymorphism important in OOP?\n",
        "\n",
        "Answer:\n",
        "Polymorphism enables writing flexible, extensible code. It allows different object types to be treated uniformly, simplifying code and promoting reuse. It’s essential for designing systems that can interact with varied object instances through common interfaces or method names.\n",
        "\n",
        "\n",
        "15. What is an abstract class in Python?\n",
        "\n",
        "Answer:\n",
        "An abstract class cannot be instantiated and usually contains one or more abstract methods—methods declared but not implemented. In Python, it’s created using the abc module and the @abstractmethod decorator. Subclasses must implement all abstract methods.\n",
        "\n",
        "\n",
        "16. What are the advantages of OOP?\n",
        "\n",
        "Answer:\n",
        "(1)OOP offers multiple benefits:\n",
        "\n",
        "(2)Modularity through encapsulation.\n",
        "\n",
        "(3)Reusability via inheritance.\n",
        "\n",
        "(4)Flexibility with polymorphism.\n",
        "\n",
        "(5)Maintainability and scalability through abstraction and structured design.\n",
        "\n",
        "\n",
        "17. Difference between class variable and instance variable?\n",
        "\n",
        "Answer:\n",
        "\n",
        "Class variable: Defined at the class level; shared across all instances of the class.\n",
        "\n",
        "Instance variable: Defined within methods like __init__; unique to each object instance.\n",
        "\n",
        "\n",
        "18. What is multiple inheritance in Python?\n",
        "\n",
        "Answer:\n",
        "**Multiple inheritance** allows a class to inherit from more than one parent class. Python supports this directly (e.g., class C(A, B): ...). Method Resolution Order (MRO) determines the order in which methods are searched across parent classes.\n",
        "\n",
        "\n",
        "19. Explain the purpose of __str__ and __repr__ in Python.\n",
        "\n",
        "Answer:\n",
        "\n",
        "__str__: Defines the user-friendly string representation of the object, used by print() and str().\n",
        "\n",
        "__repr__: Defines a more official string representation, useful for debugging; ideally unambiguous and, if possible, evaluable to recreate the object.\n",
        "\n",
        "While not always documented together, both are part of Python’s magic methods / dunder methods suite.\n",
        "\n",
        "\n",
        "20. What is the significance of super() in Python?\n",
        "\n",
        "Answer:\n",
        "The super() function invokes a method from the parent class. It allows subclasses to extend or modify behavior while retaining the base responses — especially useful in overriding constructors or methods.\n",
        "\n",
        "\n",
        "21. What is the significance of the __del__ method in Python?\n",
        "\n",
        "Answer:\n",
        "The __del__ method is a destructor, called when an object is about to be destroyed (garbage collected). It’s used for cleanup, like releasing resources. However, its behavior can be unpredictable due to the garbage collector’s timing.\n",
        "\n",
        "\n",
        "22. Difference between @staticmethod and @classmethod in Python?\n",
        "\n",
        "Answer:\n",
        "\n",
        "**@classmethod**: Takes cls and can access or modify class state.\n",
        "\n",
        "**@staticmethod**: Takes neither self nor cls and acts like an independent function defined within the class context.\n",
        "\n",
        "\n",
        "23. How does polymorphism work in Python with inheritance?\n",
        "\n",
        "Answer:\n",
        "**Polymorphism** with inheritance allows a subclass to override its parent’s methods. When calling a method on an instance, Python uses the subclass’s implementation if it exists, enabling \"many forms\" via shared interfaces.\n",
        "\n",
        "\n",
        "24. What is method chaining in Python OOP?\n",
        "\n",
        "Answer:\n",
        "**Method chaining** is a technique where multiple method calls are connected in a single line via each method returning the object instance (self). This allows fluent, readable code like obj.method1().method2().method3().\n",
        "\n",
        "\n",
        "25. What is the purpose of the __call__ method in Python?\n",
        "\n",
        "Answer:\n",
        "The __call__ method makes an instance callable—meaning you can “call” an object like a function (obj()) and execute custom behavior defined in __call__(). This enables objects to act like functions.\n"
      ],
      "metadata": {
        "id": "kNyOwbACxiRV"
      }
    },
    {
      "cell_type": "code",
      "source": [],
      "metadata": {
        "id": "KuadMEvDUzhy"
      },
      "execution_count": null,
      "outputs": []
    },
    {
      "cell_type": "code",
      "execution_count": null,
      "metadata": {
        "id": "09DDTbhuxe16"
      },
      "outputs": [],
      "source": []
    },
    {
      "cell_type": "markdown",
      "source": [
        "# **PRACTICAL QUESTIONS ARE BELOW**"
      ],
      "metadata": {
        "id": "z8uJ_wjW2I0g"
      }
    },
    {
      "cell_type": "code",
      "source": [
        "\n",
        "#1\n",
        "class Animal:\n",
        "    def speak(self):\n",
        "        print(\"animals make sound\")\n",
        "\n",
        "class Dog(Animal):\n",
        "    def speak(self):\n",
        "        print(\"dogs bark\")\n",
        "\n",
        "obj = Dog()\n",
        "print(obj.speak())"
      ],
      "metadata": {
        "colab": {
          "base_uri": "https://localhost:8080/"
        },
        "id": "DjerJ3NS1IXg",
        "outputId": "9d4f8324-2742-4f5e-d815-3ee93e2f19e0"
      },
      "execution_count": null,
      "outputs": [
        {
          "output_type": "stream",
          "name": "stdout",
          "text": [
            "dogs bark\n",
            "None\n"
          ]
        }
      ]
    },
    {
      "cell_type": "code",
      "source": [
        "#2\n",
        "from abc import ABC, abstractmethod\n",
        "import math\n",
        "\n",
        "class Shape(ABC):\n",
        "    @abstractmethod\n",
        "    def area(self):\n",
        "        \"\"\"Calculate and return the area of the shape.\"\"\"\n",
        "        pass\n",
        "\n",
        "class Circle(Shape):\n",
        "    def __init__(self, radius):\n",
        "        self.radius = radius\n",
        "\n",
        "    def area(self):\n",
        "        return math.pi * (self.radius ** 2)\n",
        "\n",
        "class Rectangle(Shape):\n",
        "    def __init__(self, width, height):\n",
        "        self.width = width\n",
        "        self.height = height\n",
        "\n",
        "    def area(self):\n",
        "        return self.width * self.height\n",
        "\n",
        "if __name__ == \"__main__\":\n",
        "    circle = Circle(radius=5)\n",
        "    rectangle = Rectangle(width=4, height=6)\n",
        "\n",
        "    print(\"Circle area:\", circle.area())\n",
        "    print(\"Rectangle area:\", rectangle.area())"
      ],
      "metadata": {
        "colab": {
          "base_uri": "https://localhost:8080/"
        },
        "id": "XqQ1ollQ2P3T",
        "outputId": "125d745e-3155-4232-ef6d-c1f34766cecb"
      },
      "execution_count": null,
      "outputs": [
        {
          "output_type": "stream",
          "name": "stdout",
          "text": [
            "Circle area: 78.53981633974483\n",
            "Rectangle area: 24\n"
          ]
        }
      ]
    },
    {
      "cell_type": "code",
      "source": [
        "#3\n",
        "class Vehicle:  #base class\n",
        "    def __init__(self, vehicle_type: str):\n",
        "        self.type = vehicle_type\n",
        "\n",
        "    def show_type(self):\n",
        "        print(f\"Vehicle type: {self.type}\")\n",
        "\n",
        "\n",
        "class Car(Vehicle):  #car inherits from vehicle\n",
        "    def __init__(self, vehicle_type: str, brand: str, model: str):\n",
        "        super().__init__(vehicle_type)\n",
        "        self.brand = brand\n",
        "        self.model = model\n",
        "\n",
        "    def show_details(self):\n",
        "        print(f\"Brand: {self.brand}, Model: {self.model}\")\n",
        "\n",
        "\n",
        "class ElectricCar(Car):  #ElectricCar inherits from Car and adds a battery attribute.\n",
        "    def __init__(self, vehicle_type: str, brand: str, model: str, battery_capacity: float):\n",
        "        super().__init__(vehicle_type, brand, model)\n",
        "        self.battery = battery_capacity\n",
        "\n",
        "    def show_battery(self):\n",
        "        print(f\"Battery capacity: {self.battery} kWh\")\n",
        "\n",
        "    def full_description(self):\n",
        "        print(\"Electric Car:\")\n",
        "        self.show_type()\n",
        "        self.show_details()\n",
        "        self.show_battery()\n",
        "\n",
        "# Example usage:\n",
        "if __name__ == \"__main__\":\n",
        "    ec = ElectricCar(\"Electric\", \"Tesla\", \"Model 3\", 75.0)\n",
        "    ec.full_description()"
      ],
      "metadata": {
        "id": "Gv5kPp093IXN",
        "colab": {
          "base_uri": "https://localhost:8080/"
        },
        "outputId": "410c8d4a-9dd3-409c-8d24-7ffacf16b672"
      },
      "execution_count": null,
      "outputs": [
        {
          "output_type": "stream",
          "name": "stdout",
          "text": [
            "Electric Car:\n",
            "Vehicle type: Electric\n",
            "Brand: Tesla, Model: Model 3\n",
            "Battery capacity: 75.0 kWh\n"
          ]
        }
      ]
    },
    {
      "cell_type": "code",
      "source": [
        "#4\n",
        "\n",
        "class Bird:    #base class\n",
        "    def fly(self):\n",
        "        print(\"Some birds can fly\")\n",
        "\n",
        "class Sparrow(Bird):    #derived class 1\n",
        "   def fly(self):\n",
        "        print(\"Sparrow is flying\")\n",
        "\n",
        "class Penguin(Bird):    # derived class 2\n",
        "    def fly(self):\n",
        "        print(\"Penguins can't fly\")\n",
        "\n",
        "def let_bird_fly(bird: Bird):     #method to overwrite\n",
        "    bird.fly()\n",
        "\n",
        "if __name__ == \"__main__\":\n",
        "    birds = [Sparrow(), Penguin()]\n",
        "    for b in birds:\n",
        "        let_bird_fly(b)"
      ],
      "metadata": {
        "colab": {
          "base_uri": "https://localhost:8080/"
        },
        "id": "pGSzpa3EOtdI",
        "outputId": "4430e402-628b-45fc-a0b0-3c42a78801ba"
      },
      "execution_count": null,
      "outputs": [
        {
          "output_type": "stream",
          "name": "stdout",
          "text": [
            "Sparrow is flying\n",
            "Penguins can't fly\n"
          ]
        }
      ]
    },
    {
      "cell_type": "code",
      "source": [
        "#5\n",
        "class BankAccount:\n",
        "    def __init__(self, initial_balance: float = 0.0):\n",
        "        # Private attribute for balance using name mangling\n",
        "        self.__balance = initial_balance\n",
        "\n",
        "    def deposit(self, amount: float) -> None:\n",
        "        if amount > 0:\n",
        "            self.__balance += amount\n",
        "            print(f\"Deposited: ₹{amount:.2f}. New balance: ₹{self.__balance:.2f}\")\n",
        "        else:\n",
        "            print(\"Deposit amount must be positive.\")\n",
        "\n",
        "    def withdraw(self, amount: float) -> None:\n",
        "        if amount <= 0:\n",
        "            print(\"Withdrawal amount must be positive.\")\n",
        "        elif amount > self.__balance:\n",
        "            print(\"Insufficient balance.\")\n",
        "        else:\n",
        "            self.__balance -= amount\n",
        "            print(f\"Withdrew: ₹{amount:.2f}. New balance: ₹{self.__balance:.2f}\")\n",
        "\n",
        "    def get_balance(self) -> float:\n",
        "        # Getter method to access the private balance\n",
        "        return self.__balance\n",
        "\n",
        "if __name__ == \"__main__\":\n",
        "    account = BankAccount(1000.0)\n",
        "    print(f\"Initial balance: ₹{account.get_balance():.2f}\")\n",
        "\n",
        "    account.deposit(500)\n",
        "    account.withdraw(300)\n",
        "    account.withdraw(1500)  # Should trigger \"Insufficient balance\"\n",
        "\n",
        "    print(f\"Final balance: ₹{account.get_balance():.2f}\")\n",
        "\n",
        "    # Trying to access the private attribute (should fail)\n",
        "    try:\n",
        "        print(account.__balance)\n",
        "    except AttributeError as e:\n",
        "        print(\"Error:\", e)"
      ],
      "metadata": {
        "colab": {
          "base_uri": "https://localhost:8080/"
        },
        "id": "5k9nQtaVPmgJ",
        "outputId": "e4a4687b-1a23-4e03-ccea-1b9c97549934"
      },
      "execution_count": null,
      "outputs": [
        {
          "output_type": "stream",
          "name": "stdout",
          "text": [
            "Initial balance: ₹1000.00\n",
            "Deposited: ₹500.00. New balance: ₹1500.00\n",
            "Withdrew: ₹300.00. New balance: ₹1200.00\n",
            "Insufficient balance.\n",
            "Final balance: ₹1200.00\n",
            "Error: 'BankAccount' object has no attribute '__balance'\n"
          ]
        }
      ]
    },
    {
      "cell_type": "code",
      "source": [
        "#6\n",
        "\n",
        "class Instrument:\n",
        "    def play(self):\n",
        "        print(\"Instrument is playing\")\n",
        "\n",
        "class Guitar(Instrument):\n",
        "    def play(self):\n",
        "        print(\"Guitar is strumming\")\n",
        "\n",
        "class Piano(Instrument):\n",
        "    def play(self):\n",
        "        print(\"Piano is playing\")\n",
        "\n",
        "def perform(instrument: Instrument):\n",
        "    instrument.play()\n",
        "\n",
        "if __name__ == \"__main__\":\n",
        "    instruments = [Guitar(), Piano(), Instrument()]\n",
        "    for inst in instruments:\n",
        "        perform(inst)"
      ],
      "metadata": {
        "colab": {
          "base_uri": "https://localhost:8080/"
        },
        "id": "Zxj6yVaJP_Q1",
        "outputId": "d668fc8b-b817-4637-83de-524e4464766c"
      },
      "execution_count": null,
      "outputs": [
        {
          "output_type": "stream",
          "name": "stdout",
          "text": [
            "Guitar is strumming\n",
            "Piano is playing\n",
            "Instrument is playing\n"
          ]
        }
      ]
    },
    {
      "cell_type": "code",
      "source": [
        "#7\n",
        "\n",
        "class MathOperations:\n",
        "    @classmethod\n",
        "    def add_numbers(cls, a, b):\n",
        "        return a + b\n",
        "\n",
        "    @staticmethod\n",
        "    def subtract_numbers(a, b):\n",
        "        return a - b\n",
        "\n",
        "if __name__ == \"__main__\":\n",
        "    print(MathOperations.add_numbers(10, 5))\n",
        "    print(MathOperations.subtract_numbers(10, 5))"
      ],
      "metadata": {
        "colab": {
          "base_uri": "https://localhost:8080/"
        },
        "id": "Dh5n-EjdQCy7",
        "outputId": "176bc785-6c3c-43ca-e79a-1f0e9f616780"
      },
      "execution_count": null,
      "outputs": [
        {
          "output_type": "stream",
          "name": "stdout",
          "text": [
            "15\n",
            "5\n"
          ]
        }
      ]
    },
    {
      "cell_type": "code",
      "source": [
        "#8\n",
        "\n",
        "class Person:\n",
        "    _count = 0\n",
        "\n",
        "    def __init__(self, name):\n",
        "        self.name = name\n",
        "        Person._count += 1\n",
        "\n",
        "    @classmethod\n",
        "    def total_persons(cls):\n",
        "        return cls._count\n",
        "\n",
        "if __name__ == \"__main__\":\n",
        "    p1 = Person(\"aman\")\n",
        "    p2 = Person(\"sarkar\")\n",
        "    p3 = Person(\"amansarkar\")\n",
        "    print(Person.total_persons())"
      ],
      "metadata": {
        "colab": {
          "base_uri": "https://localhost:8080/"
        },
        "id": "e7jks-yjQQSM",
        "outputId": "2caeaa8f-a218-4f97-b02a-cde2d17df231"
      },
      "execution_count": null,
      "outputs": [
        {
          "output_type": "stream",
          "name": "stdout",
          "text": [
            "3\n"
          ]
        }
      ]
    },
    {
      "cell_type": "code",
      "source": [
        "#9\n",
        "class Fraction:\n",
        "    def __init__(self, numerator, denominator):\n",
        "        self.numerator = numerator\n",
        "        self.denominator = denominator\n",
        "\n",
        "    def __str__(self):\n",
        "        return f\"{self.numerator}/{self.denominator}\"\n",
        "\n",
        "if __name__ == \"__main__\":\n",
        "    f = Fraction(3, 4)\n",
        "    print(f)"
      ],
      "metadata": {
        "colab": {
          "base_uri": "https://localhost:8080/"
        },
        "id": "CwmdEM8tQTRw",
        "outputId": "bee72baa-7a43-4f4c-8a13-a88d382c70db"
      },
      "execution_count": null,
      "outputs": [
        {
          "output_type": "stream",
          "name": "stdout",
          "text": [
            "3/4\n"
          ]
        }
      ]
    },
    {
      "cell_type": "code",
      "source": [
        "#10\n",
        "\n",
        "class Vector:\n",
        "    def __init__(self, x, y):\n",
        "        self.x = x\n",
        "        self.y = y\n",
        "\n",
        "    def __add__(self, other):\n",
        "        if not isinstance(other, Vector):\n",
        "            return NotImplemented\n",
        "        return Vector(self.x + other.x, self.y + other.y)\n",
        "\n",
        "    def __str__(self):\n",
        "        return f\"Vector({self.x}, {self.y})\"\n",
        "\n",
        "if __name__ == \"__main__\":\n",
        "    v1 = Vector(2, 3)\n",
        "    v2 = Vector(5, 7)\n",
        "    v3 = v1 + v2\n",
        "    print(v3)"
      ],
      "metadata": {
        "colab": {
          "base_uri": "https://localhost:8080/"
        },
        "id": "hHbWtu-mQly3",
        "outputId": "03596292-d82f-45e3-f350-c53105d2a002"
      },
      "execution_count": null,
      "outputs": [
        {
          "output_type": "stream",
          "name": "stdout",
          "text": [
            "Vector(7, 10)\n"
          ]
        }
      ]
    },
    {
      "cell_type": "code",
      "source": [
        "#11\n",
        "\n",
        "class Person:\n",
        "    def __init__(self, name: str, age: int):\n",
        "        self.name = name\n",
        "        self.age = age\n",
        "\n",
        "    def greet(self):\n",
        "        print(f\"Hello, my name is {self.name} and I am {self.age} years old.\")\n",
        "\n",
        "if __name__ == \"__main__\":\n",
        "    person = Person(\"aman\", 30)\n",
        "    person.greet()"
      ],
      "metadata": {
        "colab": {
          "base_uri": "https://localhost:8080/"
        },
        "id": "SNc7ZV1yRY4E",
        "outputId": "1e6896f4-16d7-49ce-a856-c0cc98ff5191"
      },
      "execution_count": null,
      "outputs": [
        {
          "output_type": "stream",
          "name": "stdout",
          "text": [
            "Hello, my name is aman and I am 30 years old.\n"
          ]
        }
      ]
    },
    {
      "cell_type": "code",
      "source": [
        "#12\n",
        "\n",
        "class Student:\n",
        "    def __init__(self, name: str, grades: list[float]):\n",
        "        self.name = name\n",
        "        self.grades = grades\n",
        "\n",
        "    def average_grade(self) -> float:\n",
        "        if not self.grades:\n",
        "            return 0.0\n",
        "        return sum(self.grades) / len(self.grades)\n",
        "\n",
        "if __name__ == \"__main__\":\n",
        "    s = Student(\"aman\", [75, 85, 90])\n",
        "    print(f\"{s.name}'s average grade: {s.average_grade():.2f}\")"
      ],
      "metadata": {
        "colab": {
          "base_uri": "https://localhost:8080/"
        },
        "id": "YE6hngycRtKC",
        "outputId": "8e898e89-06f5-47d9-9e05-306416f85a40"
      },
      "execution_count": null,
      "outputs": [
        {
          "output_type": "stream",
          "name": "stdout",
          "text": [
            "aman's average grade: 83.33\n"
          ]
        }
      ]
    },
    {
      "cell_type": "code",
      "source": [
        "#13\n",
        "\n",
        "class Rectangle:\n",
        "    def __init__(self, width: float = 0.0, height: float = 0.0):\n",
        "        self.width = width\n",
        "        self.height = height\n",
        "\n",
        "    def set_dimensions(self, width: float, height: float) -> None:\n",
        "        self.width = width\n",
        "        self.height = height\n",
        "\n",
        "    def area(self) -> float:\n",
        "        return self.width * self.height\n",
        "\n",
        "if __name__ == \"__main__\":\n",
        "    rect = Rectangle()\n",
        "    rect.set_dimensions(5, 10)\n",
        "    print(f\"Area: {rect.area()}\")"
      ],
      "metadata": {
        "colab": {
          "base_uri": "https://localhost:8080/"
        },
        "id": "7GRBxpWtRvbZ",
        "outputId": "ebef33eb-a7dd-44b8-c27c-028ecc6700d8"
      },
      "execution_count": null,
      "outputs": [
        {
          "output_type": "stream",
          "name": "stdout",
          "text": [
            "Area: 50\n"
          ]
        }
      ]
    },
    {
      "cell_type": "code",
      "source": [
        "#14\n",
        "\n",
        "class Employee:\n",
        "    def __init__(self, name: str, hours_worked: float, hourly_rate: float):\n",
        "        self.name = name\n",
        "        self.hours_worked = hours_worked\n",
        "        self.hourly_rate = hourly_rate\n",
        "\n",
        "    def calculate_salary(self) -> float:\n",
        "        return self.hours_worked * self.hourly_rate\n",
        "\n",
        "class Manager(Employee):\n",
        "    def __init__(self, name: str, hours_worked: float, hourly_rate: float, bonus: float):\n",
        "        super().__init__(name, hours_worked, hourly_rate)\n",
        "        self.bonus = bonus\n",
        "\n",
        "    def calculate_salary(self) -> float:\n",
        "        base_salary = super().calculate_salary()\n",
        "        return base_salary + self.bonus\n",
        "\n",
        "if __name__ == \"__main__\":\n",
        "    emp = Employee(\"aman\", 40, 25)\n",
        "    mgr = Manager(\"sarkar\", 40, 25, 500)\n",
        "    print(f\"{emp.name}'s salary: {emp.calculate_salary()}\")\n",
        "    print(f\"{mgr.name}'s salary: {mgr.calculate_salary()}\")"
      ],
      "metadata": {
        "colab": {
          "base_uri": "https://localhost:8080/"
        },
        "id": "TOS5izHfR-1S",
        "outputId": "fe06da0d-c31b-40f9-be86-7db61fea221e"
      },
      "execution_count": null,
      "outputs": [
        {
          "output_type": "stream",
          "name": "stdout",
          "text": [
            "aman's salary: 1000\n",
            "sarkar's salary: 1500\n"
          ]
        }
      ]
    },
    {
      "cell_type": "code",
      "source": [
        "#15\n",
        "\n",
        "class Product:\n",
        "    def __init__(self, name: str, price: float, quantity: int):\n",
        "        self.name = name\n",
        "        self.price = price\n",
        "        self.quantity = quantity\n",
        "\n",
        "    def total_price(self) -> float:\n",
        "        return self.price * self.quantity\n",
        "\n",
        "if __name__ == \"__main__\":\n",
        "    p = Product(\"Notebook\", 2.5, 4)\n",
        "    print(f\"{p.name}: Total Price = {p.total_price():.2f}\")"
      ],
      "metadata": {
        "id": "h47MZEYISTj-"
      },
      "execution_count": null,
      "outputs": []
    },
    {
      "cell_type": "code",
      "source": [
        "#16\n",
        "\n",
        "from abc import ABC, abstractmethod\n",
        "\n",
        "class Animal(ABC):\n",
        "    @abstractmethod\n",
        "    def sound(self) -> str:\n",
        "        pass\n",
        "\n",
        "class Cow(Animal):\n",
        "    def sound(self) -> str:\n",
        "        return \"Moo\"\n",
        "\n",
        "class Sheep(Animal):\n",
        "    def sound(self) -> str:\n",
        "        return \"Baa\"\n",
        "\n",
        "if __name__ == \"__main__\":\n",
        "    animals = [Cow(), Sheep()]\n",
        "    for a in animals:\n",
        "        print(a.sound())"
      ],
      "metadata": {
        "colab": {
          "base_uri": "https://localhost:8080/"
        },
        "id": "Bqs_shhxSV61",
        "outputId": "47eb9f23-527e-489a-efdf-1a447945c987"
      },
      "execution_count": null,
      "outputs": [
        {
          "output_type": "stream",
          "name": "stdout",
          "text": [
            "Moo\n",
            "Baa\n"
          ]
        }
      ]
    },
    {
      "cell_type": "code",
      "source": [
        "#17\n",
        "\n",
        "class Book:\n",
        "    def __init__(self, title: str, author: str, year_published: int):\n",
        "        self.title = title\n",
        "        self.author = author\n",
        "        self.year_published = year_published\n",
        "\n",
        "    def get_book_info(self) -> str:\n",
        "        return f\"\\\"{self.title}\\\" by {self.author}, published in {self.year_published}\"\n",
        "\n",
        "if __name__ == \"__main__\":\n",
        "    b = Book(\"1984\", \"George Orwell\", 1949)\n",
        "    print(b.get_book_info())"
      ],
      "metadata": {
        "colab": {
          "base_uri": "https://localhost:8080/"
        },
        "id": "3m4vmXUzSfQb",
        "outputId": "ad515524-62dc-483a-cb97-a2eb5f2d8c7b"
      },
      "execution_count": null,
      "outputs": [
        {
          "output_type": "stream",
          "name": "stdout",
          "text": [
            "\"1984\" by George Orwell, published in 1949\n"
          ]
        }
      ]
    },
    {
      "cell_type": "code",
      "source": [
        "#18\n",
        "class House:\n",
        "    def __init__(self, address: str, price: float):\n",
        "        self.address = address\n",
        "        self.price = price\n",
        "\n",
        "    def __str__(self) -> str:\n",
        "        return f\"House at {self.address}, priced at {self.price}\"\n",
        "\n",
        "class Mansion(House):\n",
        "    def __init__(self, address: str, price: float, number_of_rooms: int):\n",
        "        super().__init__(address, price)\n",
        "        self.number_of_rooms = number_of_rooms\n",
        "\n",
        "    def __str__(self) -> str:\n",
        "        return f\"Mansion at {self.address}, priced at {self.price}, with {self.number_of_rooms} rooms\"\n",
        "\n",
        "if __name__ == \"__main__\":\n",
        "    h = House(\"123 Elm Street\", 150000.00)\n",
        "    m = Mansion(\"1 Beverly Hills\", 5000000.00, 10)\n",
        "    print(h)\n",
        "    print(m)"
      ],
      "metadata": {
        "colab": {
          "base_uri": "https://localhost:8080/"
        },
        "id": "qjwOQDt4Snk0",
        "outputId": "667a92d5-9ad5-45f7-8000-db91a1f418d2"
      },
      "execution_count": null,
      "outputs": [
        {
          "output_type": "stream",
          "name": "stdout",
          "text": [
            "House at 123 Elm Street, priced at 150000.0\n",
            "Mansion at 1 Beverly Hills, priced at 5000000.0, with 10 rooms\n"
          ]
        }
      ]
    }
  ]
}